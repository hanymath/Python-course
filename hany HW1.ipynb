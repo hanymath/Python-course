{
 "cells": [
  {
   "cell_type": "code",
   "execution_count": 1,
   "id": "ea2a9afd-6ac7-43bc-9769-05cbe869ee3f",
   "metadata": {},
   "outputs": [
    {
     "data": {
      "text/plain": [
       "30"
      ]
     },
     "execution_count": 1,
     "metadata": {},
     "output_type": "execute_result"
    }
   ],
   "source": [
    "#Exercise 1: Calculate the multiplication and sum of two numbers that you accept from user\n",
    "x = 10 \n",
    "y = 20 \n",
    "x + y "
   ]
  },
  {
   "cell_type": "code",
   "execution_count": 3,
   "id": "b6a00c99-788b-4827-86d8-21fe98277232",
   "metadata": {},
   "outputs": [
    {
     "data": {
      "text/plain": [
       "200"
      ]
     },
     "execution_count": 3,
     "metadata": {},
     "output_type": "execute_result"
    }
   ],
   "source": [
    "x * y "
   ]
  },
  {
   "cell_type": "code",
   "execution_count": 5,
   "id": "c70d0065-2874-41de-bfd7-9b21e07410d5",
   "metadata": {},
   "outputs": [
    {
     "name": "stdout",
     "output_type": "stream",
     "text": [
      "Name**Is**James\n"
     ]
    }
   ],
   "source": [
    "# Exercise 2:Display three strings “Name”, “Is”, “James” as “Name**Is**James”\n",
    "print ('Name', 'Is', 'James', sep = '**')"
   ]
  },
  {
   "cell_type": "code",
   "execution_count": 7,
   "id": "073abc93-17b0-44a5-ad6f-f2b6f52d6801",
   "metadata": {
    "scrolled": true
   },
   "outputs": [
    {
     "name": "stdout",
     "output_type": "stream",
     "text": [
      "Hello world\n"
     ]
    }
   ],
   "source": [
    "#Exercise 3: Print \"Hello World\" if a is greater than b.\n",
    "a = 30 \n",
    "b = 20 \n",
    "if a > b: \n",
    "    print(\"Hello world\")"
   ]
  },
  {
   "cell_type": "code",
   "execution_count": 3,
   "id": "a6f820c3-9826-4901-9a66-90de004cf5f0",
   "metadata": {},
   "outputs": [
    {
     "name": "stdin",
     "output_type": "stream",
     "text": [
      "Enter the percentage of the student:  80\n"
     ]
    },
    {
     "name": "stdout",
     "output_type": "stream",
     "text": [
      "grade C\n"
     ]
    }
   ],
   "source": [
    "#Exercise 4: Write a program to accept percentages from the user and display the grade according to the following:\n",
    "\n",
    "mark is greater than 90 grade: A\n",
    "mark is between 80 and 90 grade: B\n",
    "mark is between 60 and 80 grade: C\n",
    "mark is below 60 grade : D \n",
    "\n",
    "p = int(input('Enter the percentage of the student: '))\n",
    "if(p > 90):\n",
    "    print ('grade A')\n",
    "elif(p > 80 and p <= 90):\n",
    "    print ('grade B')\n",
    "elif(p > 60 and p <= 80):\n",
    "    print ('grade C') \n",
    "else: \n",
    "    print ('grade D') "
   ]
  },
  {
   "cell_type": "code",
   "execution_count": 13,
   "id": "8b963b25-2e30-40f9-be08-5270182e647b",
   "metadata": {},
   "outputs": [
    {
     "name": "stdin",
     "output_type": "stream",
     "text": [
      "display the name of the day:  3\n"
     ]
    },
    {
     "name": "stdout",
     "output_type": "stream",
     "text": [
      "Tuesday\n"
     ]
    }
   ],
   "source": [
    "#Exercise 5: Write a program to accept a number from 1 to 7 and display the name of the day,\n",
    "#examples, 1 for Saturday , 2 for Sunday...etc\n",
    "d = int(input('display the name of the day: '))\n",
    "if (d == 1):\n",
    "    print ('Sunday')\n",
    "elif(d == 2):\n",
    "    print ('Monday')\n",
    "elif(d == 3):\n",
    "    print ('Tuesday')\n",
    "elif( d == 4):\n",
    "    print ('Wednesday')\n",
    "elif(d == 5):\n",
    "    print('Thursday')\n",
    "elif(d == 6):\n",
    "    print('Friday')\n",
    "elif(d == 7):\n",
    "    print('Saturday')"
   ]
  },
  {
   "cell_type": "code",
   "execution_count": null,
   "id": "8b20d041-4855-49ef-bca3-b3bec22de93c",
   "metadata": {},
   "outputs": [],
   "source": []
  }
 ],
 "metadata": {
  "kernelspec": {
   "display_name": "Python 3 (ipykernel)",
   "language": "python",
   "name": "python3"
  },
  "language_info": {
   "codemirror_mode": {
    "name": "ipython",
    "version": 3
   },
   "file_extension": ".py",
   "mimetype": "text/x-python",
   "name": "python",
   "nbconvert_exporter": "python",
   "pygments_lexer": "ipython3",
   "version": "3.11.7"
  }
 },
 "nbformat": 4,
 "nbformat_minor": 5
}
